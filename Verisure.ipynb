{
 "cells": [
  {
   "cell_type": "code",
   "execution_count": null,
   "metadata": {},
   "outputs": [],
   "source": [
    "import pandas as pd\n",
    "import numpy as np"
   ]
  },
  {
   "cell_type": "code",
   "execution_count": null,
   "metadata": {},
   "outputs": [],
   "source": [
    "original = pd.read_excel('HurricaneInfo.xlsx')\n",
    "df = original.copy()\n",
    "df.head(10)\n",
    "#df\n",
    "\n",
    "#print(len(df))"
   ]
  },
  {
   "cell_type": "code",
   "execution_count": null,
   "metadata": {
    "scrolled": true
   },
   "outputs": [],
   "source": []
  },
  {
   "cell_type": "code",
   "execution_count": null,
   "metadata": {},
   "outputs": [],
   "source": [
    "df = df.dropna(subset=['Year', 'Month','States Affected', 'Category', 'Central Pressure','Max Wind'])\n"
   ]
  },
  {
   "cell_type": "code",
   "execution_count": null,
   "metadata": {},
   "outputs": [],
   "source": [
    "df= df.drop('Name', axis = 1)"
   ]
  },
  {
   "cell_type": "code",
   "execution_count": null,
   "metadata": {},
   "outputs": [],
   "source": [
    "df.Year = df.Year.fillna(0.0).astype(int)\n",
    "#df.Year.astype(int)"
   ]
  },
  {
   "cell_type": "code",
   "execution_count": null,
   "metadata": {},
   "outputs": [],
   "source": [
    "df['Month Name'] = df['Month']"
   ]
  },
  {
   "cell_type": "code",
   "execution_count": null,
   "metadata": {},
   "outputs": [],
   "source": [
    "months = {'Jan':1, 'Feb':2, 'Mar':3, 'Apr':4, 'May': 5, 'Jun':6, 'Jul':7 , 'Aug':8, 'Sep':9, 'Oct':10, 'Nov':11, 'Dec':12}\n",
    "df.Month = df.Month.map(months)"
   ]
  },
  {
   "cell_type": "code",
   "execution_count": null,
   "metadata": {},
   "outputs": [],
   "source": [
    "df.Month.unique()"
   ]
  },
  {
   "cell_type": "code",
   "execution_count": null,
   "metadata": {},
   "outputs": [],
   "source": [
    "df.Month = df.Month.astype(int)\n",
    "df.Category = df.Category.astype(int)\n",
    "df['Central Pressure'] = df['Central Pressure'].astype(int)\n",
    "df['Max Wind'] = df['Max Wind'].astype(int)\n",
    "df['States Affected'] = df['States Affected'].astype('category')"
   ]
  },
  {
   "cell_type": "code",
   "execution_count": null,
   "metadata": {},
   "outputs": [],
   "source": [
    "# df.columns"
   ]
  },
  {
   "cell_type": "code",
   "execution_count": null,
   "metadata": {},
   "outputs": [],
   "source": [
    "# df.head(5)"
   ]
  },
  {
   "cell_type": "code",
   "execution_count": null,
   "metadata": {},
   "outputs": [],
   "source": [
    "# (df['States Affected']).dtypes"
   ]
  },
  {
   "cell_type": "code",
   "execution_count": null,
   "metadata": {},
   "outputs": [],
   "source": [
    "# df.dtypes"
   ]
  },
  {
   "cell_type": "code",
   "execution_count": null,
   "metadata": {},
   "outputs": [],
   "source": [
    "df['States Affected Codes'] = df['States Affected'].cat.codes"
   ]
  },
  {
   "cell_type": "code",
   "execution_count": null,
   "metadata": {},
   "outputs": [],
   "source": [
    "# df.head(30)"
   ]
  },
  {
   "cell_type": "code",
   "execution_count": null,
   "metadata": {},
   "outputs": [],
   "source": [
    "# (df['States Affected']).unique()"
   ]
  },
  {
   "cell_type": "code",
   "execution_count": null,
   "metadata": {},
   "outputs": [],
   "source": []
  },
  {
   "cell_type": "code",
   "execution_count": null,
   "metadata": {},
   "outputs": [],
   "source": [
    "# from sklearn.model_selection import train_test_split\n",
    "\n",
    "# X_train, X_test, y_train, y_test = train_test_split(df.drop(['Category'], axis=1), \n",
    "#                                                     df['Category'], test_size=0.30, random_state=101)\n",
    "\n",
    "# print('Training the model')\n",
    "# from sklearn.linear_model import LinearRegression\n",
    "# from sklearn.preprocessing import LabelEncoder\n",
    "# regressionmodel = LinearRegression(normalize=True)\n",
    "# regressionmodel.fit(X_train,y_train)\n",
    "\n",
    "# print('Predicting on test data..')\n",
    "# predictions = regressionmodel.predict(X_test)\n",
    "\n",
    "# #print(predictions)\n",
    "\n",
    "# #X_test['Category_Predicted']=[np.exp(p) for p in predictions]\n",
    "\n",
    "# X_test['Category_Predicted'] = predictions\n",
    "\n",
    "# #print(X_test['Category_Predicted'])\n",
    "\n",
    "# #X_test['insuranceRequired'] = X_test['Delay_Predicted'].apply(lambda x:\"No\" if x < 15 else \"Yes\")\n",
    "\n",
    "# X_test"
   ]
  },
  {
   "cell_type": "code",
   "execution_count": null,
   "metadata": {},
   "outputs": [],
   "source": []
  },
  {
   "cell_type": "code",
   "execution_count": null,
   "metadata": {},
   "outputs": [],
   "source": [
    "\n",
    "#print(utils.multiclass.type_of_target(y_train))"
   ]
  },
  {
   "cell_type": "code",
   "execution_count": 42,
   "metadata": {},
   "outputs": [
    {
     "name": "stdout",
     "output_type": "stream",
     "text": [
      "Train the model\n",
      "Training complete\n",
      "Prediction on test data..\n",
      "(188, 2)\n",
      "(188,)\n",
      "(81, 5)\n",
      "(81,)\n",
      "Training score::  0.4574468085106383\n"
     ]
    },
    {
     "data": {
      "text/html": [
       "<div>\n",
       "<style scoped>\n",
       "    .dataframe tbody tr th:only-of-type {\n",
       "        vertical-align: middle;\n",
       "    }\n",
       "\n",
       "    .dataframe tbody tr th {\n",
       "        vertical-align: top;\n",
       "    }\n",
       "\n",
       "    .dataframe thead th {\n",
       "        text-align: right;\n",
       "    }\n",
       "</style>\n",
       "<table border=\"1\" class=\"dataframe\">\n",
       "  <thead>\n",
       "    <tr style=\"text-align: right;\">\n",
       "      <th></th>\n",
       "      <th>Month</th>\n",
       "      <th>States Affected Codes</th>\n",
       "      <th>Category_Predicted</th>\n",
       "      <th>States Affected</th>\n",
       "      <th>Month Name</th>\n",
       "    </tr>\n",
       "  </thead>\n",
       "  <tbody>\n",
       "    <tr>\n",
       "      <th>292</th>\n",
       "      <td>8</td>\n",
       "      <td>12</td>\n",
       "      <td>1</td>\n",
       "      <td>TX</td>\n",
       "      <td>Aug</td>\n",
       "    </tr>\n",
       "    <tr>\n",
       "      <th>36</th>\n",
       "      <td>10</td>\n",
       "      <td>1</td>\n",
       "      <td>1</td>\n",
       "      <td>FL</td>\n",
       "      <td>Oct</td>\n",
       "    </tr>\n",
       "    <tr>\n",
       "      <th>284</th>\n",
       "      <td>8</td>\n",
       "      <td>1</td>\n",
       "      <td>2</td>\n",
       "      <td>FL</td>\n",
       "      <td>Aug</td>\n",
       "    </tr>\n",
       "    <tr>\n",
       "      <th>13</th>\n",
       "      <td>9</td>\n",
       "      <td>9</td>\n",
       "      <td>3</td>\n",
       "      <td>NY</td>\n",
       "      <td>Sep</td>\n",
       "    </tr>\n",
       "    <tr>\n",
       "      <th>305</th>\n",
       "      <td>9</td>\n",
       "      <td>1</td>\n",
       "      <td>3</td>\n",
       "      <td>FL</td>\n",
       "      <td>Sep</td>\n",
       "    </tr>\n",
       "  </tbody>\n",
       "</table>\n",
       "</div>"
      ],
      "text/plain": [
       "     Month  States Affected Codes  Category_Predicted States Affected  \\\n",
       "292      8                     12                   1              TX   \n",
       "36      10                      1                   1              FL   \n",
       "284      8                      1                   2              FL   \n",
       "13       9                      9                   3              NY   \n",
       "305      9                      1                   3              FL   \n",
       "\n",
       "    Month Name  \n",
       "292        Aug  \n",
       "36         Oct  \n",
       "284        Aug  \n",
       "13         Sep  \n",
       "305        Sep  "
      ]
     },
     "execution_count": 42,
     "metadata": {},
     "output_type": "execute_result"
    }
   ],
   "source": [
    "\n",
    "from sklearn.model_selection import train_test_split\n",
    "from sklearn.preprocessing import LabelEncoder\n",
    "from sklearn import utils\n",
    "\n",
    "X_train, X_test, y_train, y_test = train_test_split(df.drop(['Category', 'States Affected', 'Month Name', 'Year', \n",
    "                                                             'Central Pressure', 'Max Wind'], axis=1), \n",
    "                                                    df['Category'], test_size=0.30, random_state=101)\n",
    "\n",
    "\n",
    "#lab_enc = LabelEncoder()\n",
    "#X_train = lab_enc.fit_transform(X_train)\n",
    "\n",
    "print('Train the model')\n",
    "from sklearn.ensemble import RandomForestClassifier\n",
    "\n",
    "rf = RandomForestClassifier(n_estimators=1, n_jobs=-1)\n",
    "rf.fit(X_train, y_train)\n",
    "\n",
    "print(\"Training complete\")\n",
    "print('Prediction on test data..')\n",
    "\n",
    "predictions = rf.predict(X_test)\n",
    "\n",
    "#print(predictions)\n",
    "\n",
    "X_test['Category_Predicted'] = predictions\n",
    "X_test['States Affected'] = df['States Affected']\n",
    "X_test['Month Name'] = df['Month Name']\n",
    "\n",
    "\n",
    "\n",
    "print(X_train.shape)\n",
    "print(y_train.shape)\n",
    "print(X_test.shape)\n",
    "print(y_test.shape)\n",
    "\n",
    "\n",
    "\n",
    "\n",
    "print(\"Training score:: \", rf.score(X_train, y_train))\n",
    "\n",
    "X_test.head(5)\n",
    "#print(\"Testing score:: \", rf.score(X_test.values.reshape(-1,1), y_test))\n",
    "\n",
    "#accu_train = np.sum(rf.predict(X_train.values.reshape(-1, 1)) == y_train)/y_train_size\n",
    "#accu_test = np.sum(rf.predict(X_test.values.reshape(-1, 1)) == y_test)/y_test_size\n",
    "\n",
    "#print(accu_train)\n",
    "#print(accu_test)"
   ]
  },
  {
   "cell_type": "code",
   "execution_count": null,
   "metadata": {},
   "outputs": [],
   "source": [
    "# from sklearn.metrics import accuracy_score\n",
    "\n",
    "# accuracy_score(X_test, y_test)"
   ]
  },
  {
   "cell_type": "code",
   "execution_count": null,
   "metadata": {},
   "outputs": [],
   "source": [
    "#TODO: Depict Random forest tree\n",
    "#TODO: Accuracy\n",
    "#mobirise.com"
   ]
  },
  {
   "cell_type": "code",
   "execution_count": null,
   "metadata": {},
   "outputs": [],
   "source": [
    "# X_test.to_html(\"Home.html\")"
   ]
  },
  {
   "cell_type": "code",
   "execution_count": 43,
   "metadata": {},
   "outputs": [],
   "source": [
    "statename_to_abbr = {\n",
    "    # States\n",
    "    'Alabama': 'AL',\n",
    "    'Montana': 'MT',\n",
    "    'Alaska': 'AK',\n",
    "    'Nebraska': 'NE',\n",
    "    'Arizona': 'AZ',\n",
    "    'Nevada': 'NV',\n",
    "    'Arkansas': 'AR',\n",
    "    'New Hampshire': 'NH',\n",
    "    'California': 'CA',\n",
    "    'New Jersey': 'NJ',\n",
    "    'Colorado': 'CO',\n",
    "    'New Mexico': 'NM',\n",
    "    'Connecticut': 'CT',\n",
    "    'New York': 'NY',\n",
    "    'Delaware': 'DE',\n",
    "    'North Carolina': 'NC',\n",
    "    'Florida': 'FL',\n",
    "    'North Dakota': 'ND',\n",
    "    'Georgia': 'GA',\n",
    "    'Ohio': 'OH',\n",
    "    'Hawaii': 'HI',\n",
    "    'Oklahoma': 'OK',\n",
    "    'Idaho': 'ID',\n",
    "    'Oregon': 'OR',\n",
    "    'Illinois': 'IL',\n",
    "    'Pennsylvania': 'PA',\n",
    "    'Indiana': 'IN',\n",
    "    'Rhode Island': 'RI',\n",
    "    'Iowa': 'IA',\n",
    "    'South Carolina': 'SC',\n",
    "    'Kansas': 'KS',\n",
    "    'South Dakota': 'SD',\n",
    "    'Kentucky': 'KY',\n",
    "    'Tennessee': 'TN',\n",
    "    'Louisiana': 'LA',\n",
    "    'Texas': 'TX',\n",
    "    'Maine': 'ME',\n",
    "    'Utah': 'UT',\n",
    "    'Maryland': 'MD',\n",
    "    'Vermont': 'VT',\n",
    "    'Massachusetts': 'MA',\n",
    "    'Virginia': 'VA',\n",
    "    'Michigan': 'MI',\n",
    "    'Washington': 'WA',\n",
    "    'Minnesota': 'MN',\n",
    "    'West Virginia': 'WV',\n",
    "    'Mississippi': 'MS',\n",
    "    'Wisconsin': 'WI',\n",
    "    'Missouri': 'MO',\n",
    "    'Wyoming': 'WY',\n",
    "}"
   ]
  },
  {
   "cell_type": "code",
   "execution_count": 44,
   "metadata": {},
   "outputs": [],
   "source": [
    "categories_map = { 1: 'Minor',\n",
    "    2: 'Minor',\n",
    "    3: 'Minor',\n",
    "    4: 'Major',\n",
    "    5: 'Major'}"
   ]
  },
  {
   "cell_type": "code",
   "execution_count": 45,
   "metadata": {},
   "outputs": [],
   "source": [
    "X_test['Risk'] = X_test['Category_Predicted'].map(categories_map)\n",
    "#X_test['Risk']"
   ]
  },
  {
   "cell_type": "code",
   "execution_count": null,
   "metadata": {},
   "outputs": [],
   "source": [
    "# statename_to_abbr['Texas']\n",
    "\n",
    "# #X_test['States Affected'].astype('category')\n",
    "\n",
    "# [X_test['States Affected'] == 'TX']\n",
    "# X_test.loc[X_test['States Affected'] == statename_to_abbr['Florida']]\n",
    "\n",
    "# X_test.index.name = 'SNO'\n",
    "# print(X_test.index.name)"
   ]
  },
  {
   "cell_type": "code",
   "execution_count": null,
   "metadata": {},
   "outputs": [],
   "source": [
    "# state_results = X_test.loc[X_test['States Affected'] == statename_to_abbr['Florida']]\n",
    "# state_results"
   ]
  },
  {
   "cell_type": "code",
   "execution_count": null,
   "metadata": {},
   "outputs": [],
   "source": [
    "# final_results = state_results.filter(['States Affected','Month Name','Risk'], axis=1)"
   ]
  },
  {
   "cell_type": "code",
   "execution_count": null,
   "metadata": {},
   "outputs": [],
   "source": [
    "# list(set(final_results['States Affected']))\n",
    "# set(final_results['Month Name'])\n",
    "# set(final_results['Risk'])\n",
    "\n",
    "\n",
    "# # blankIndex=[''] * len(final_results)\n",
    "# # final_results.index=blankIndex\n",
    "\n",
    "\n",
    "\n",
    "# # g = final_results.groupby(\"Month Name\", as_index=False)\n",
    "# # d = dict(iter(g))\n",
    "# # d['Aug']"
   ]
  },
  {
   "cell_type": "code",
   "execution_count": null,
   "metadata": {},
   "outputs": [],
   "source": []
  },
  {
   "cell_type": "code",
   "execution_count": null,
   "metadata": {},
   "outputs": [],
   "source": [
    "# new = X_test.filter(['States Affected','Month Name','Risk'], axis=1)\n",
    "\n",
    "# blankIndex=[''] * len(new)\n",
    "# new.index=blankIndex\n",
    "# new"
   ]
  },
  {
   "cell_type": "code",
   "execution_count": null,
   "metadata": {},
   "outputs": [],
   "source": [
    "# g = X_test.groupby(\"SNO\", as_index=False)"
   ]
  },
  {
   "cell_type": "code",
   "execution_count": null,
   "metadata": {},
   "outputs": [],
   "source": [
    "# d = dict(iter(g))\n",
    "# d"
   ]
  },
  {
   "cell_type": "code",
   "execution_count": 46,
   "metadata": {},
   "outputs": [
    {
     "data": {
      "text/html": [
       "<div>\n",
       "<style scoped>\n",
       "    .dataframe tbody tr th:only-of-type {\n",
       "        vertical-align: middle;\n",
       "    }\n",
       "\n",
       "    .dataframe tbody tr th {\n",
       "        vertical-align: top;\n",
       "    }\n",
       "\n",
       "    .dataframe thead th {\n",
       "        text-align: right;\n",
       "    }\n",
       "</style>\n",
       "<table border=\"1\" class=\"dataframe\">\n",
       "  <thead>\n",
       "    <tr style=\"text-align: right;\">\n",
       "      <th></th>\n",
       "      <th>States Affected</th>\n",
       "      <th>Month</th>\n",
       "      <th>Risk</th>\n",
       "    </tr>\n",
       "  </thead>\n",
       "  <tbody>\n",
       "    <tr>\n",
       "      <th></th>\n",
       "      <td>TX</td>\n",
       "      <td>Aug</td>\n",
       "      <td>Minor</td>\n",
       "    </tr>\n",
       "    <tr>\n",
       "      <th></th>\n",
       "      <td>FL</td>\n",
       "      <td>Oct</td>\n",
       "      <td>Minor</td>\n",
       "    </tr>\n",
       "    <tr>\n",
       "      <th></th>\n",
       "      <td>FL</td>\n",
       "      <td>Aug</td>\n",
       "      <td>Minor</td>\n",
       "    </tr>\n",
       "    <tr>\n",
       "      <th></th>\n",
       "      <td>NY</td>\n",
       "      <td>Sep</td>\n",
       "      <td>Minor</td>\n",
       "    </tr>\n",
       "    <tr>\n",
       "      <th></th>\n",
       "      <td>FL</td>\n",
       "      <td>Sep</td>\n",
       "      <td>Minor</td>\n",
       "    </tr>\n",
       "  </tbody>\n",
       "</table>\n",
       "</div>"
      ],
      "text/plain": [
       " States Affected Month   Risk\n",
       "              TX   Aug  Minor\n",
       "              FL   Oct  Minor\n",
       "              FL   Aug  Minor\n",
       "              NY   Sep  Minor\n",
       "              FL   Sep  Minor"
      ]
     },
     "execution_count": 46,
     "metadata": {},
     "output_type": "execute_result"
    }
   ],
   "source": [
    "selected_col_results = X_test.filter(['States Affected','Month Name','Risk'], axis=1)\n",
    "selected_col_results.rename(columns={'Month Name': 'Month'}, inplace=True)\n",
    "    \n",
    "    \n",
    "    \n",
    "blankIndex=[''] * len(selected_col_results)\n",
    "selected_col_results.index=blankIndex\n",
    "selected_col_results.head(5)"
   ]
  },
  {
   "cell_type": "code",
   "execution_count": null,
   "metadata": {},
   "outputs": [],
   "source": [
    "# state = 'TX'\n",
    "# state in X_test['States Affected'].values\n",
    "    \n",
    "#a = X_test.loc[X_test['States Affected'] == statename_to_abbr['a']]\n",
    "#a.isnull\n",
    "#final_results = state_results.filter(['States Affected','Month Name','Risk'], axis=1)\n",
    "#final_results.rename(columns={'Month Name': 'Month'}, inplace=True)\n",
    "\n",
    "\n",
    "\n",
    "#state_results = X_test.loc[X_test['States Affected'] == statename_to_abbr[state]]\n",
    "#selected_col_results = X_test.filter(['States Affected','Month Name','Risk'], axis=1)\n",
    "#selected_col_results.rename(columns={'Month Name': 'Month'}, inplace=True)\n",
    "    \n",
    "    \n",
    "    \n",
    "#final_results['States Affected'] = final_results['States Affected'].unique()\n",
    "#final_results['Month Name'] = set(final_results['Month Name'])\n",
    "#final_results['Month Name'] = final_results['Month Name'].unique()\n",
    "#final_results['Risk'] = final_results['Risk'].unique()\n",
    "# blankIndex=[''] * len(selected_col_results)\n",
    "# selected_col_results.index=blankIndex\n",
    "# selected_col_results\n",
    "\n",
    "\n",
    "#state_results1 = selected_col_results.loc[selected_col_results['States Affected'] == statename_to_abbr['Florida']]\n",
    "#state_results1"
   ]
  },
  {
   "cell_type": "code",
   "execution_count": null,
   "metadata": {
    "scrolled": true
   },
   "outputs": [
    {
     "name": "stderr",
     "output_type": "stream",
     "text": [
      " * Running on http://127.0.0.1:5000/ (Press CTRL+C to quit)\n",
      "127.0.0.1 - - [07/Apr/2019 11:22:01] \"\u001b[37mGET / HTTP/1.1\u001b[0m\" 200 -\n",
      "127.0.0.1 - - [07/Apr/2019 11:22:28] \"\u001b[37mPOST /api/train HTTP/1.1\u001b[0m\" 200 -\n"
     ]
    }
   ],
   "source": [
    "from flask import Flask,render_template, request\n",
    "import pandas as pd\n",
    "import numpy as np\n",
    "app = Flask(__name__)\n",
    "\n",
    "@app.route(\"/\")\n",
    "def index():\n",
    "    return render_template(\"Input.html\")\n",
    "\n",
    "\n",
    "@app.route(\"/api/train\", methods = ['POST'])\n",
    "def read_input():\n",
    "    if request.method == 'POST':\n",
    "        result = request.form\n",
    "        #print(request.form['State'])\n",
    "        state = request.form['State']\n",
    "        state_abbr = statename_to_abbr[state]\n",
    "        if(state_abbr in selected_col_results['States Affected'].values):\n",
    "            state_results = selected_col_results.loc[selected_col_results['States Affected'] == statename_to_abbr[state]]\n",
    "            blankIndex=[''] * len(state_results)\n",
    "            state_results.index=blankIndex\n",
    "            return render_template(\"Result.html\",data = state_results)\n",
    "    #else:\n",
    "        #return \"State info not found\"\n",
    "    #print(state_results)\n",
    "    #final_results\n",
    "    \n",
    "    #print(X_test.loc[X_test['States Affected'] == statename_to_abbr[state]])\n",
    "    \n",
    "    #print(request.form['State'])\n",
    "#   return render_template(\"result.html\",data = state_results)\n",
    "    #return jsonify({'Results': res})\n",
    "    return \"Not found\"\n",
    "\n",
    "\n",
    "if __name__ == \"__main__\":\n",
    "    app.run()"
   ]
  },
  {
   "cell_type": "code",
   "execution_count": null,
   "metadata": {},
   "outputs": [],
   "source": [
    "# from flask import Flask,render_template, request\n",
    "# import pandas as pd\n",
    "# import numpy as np\n",
    "# app = Flask(__name__)\n",
    "\n",
    "# @app.route(\"/\")\n",
    "# def index():\n",
    "#     print(\"in index\")\n",
    "#     return render_template(\"Input.html\")\n",
    "\n",
    "# @app.route('/shutdown', methods=['POST'])\n",
    "# def shutdown():\n",
    "#     shutdown_server()\n",
    "#     return 'Server shutting down...'\n",
    "\n",
    "\n",
    "# @app.route(\"/api/train\", methods = ['POST'])\n",
    "# def result():\n",
    "#     print(\"inside\")\n",
    "#     if request.method == 'POST':\n",
    "#         result = request.form\n",
    "#         print(request.form['State'])\n",
    "#         state = result.form['State']\n",
    "#         state_abbr = statename_to_abbr[state]\n",
    "#         #if(state_abbr in selected_col_results['States Affected'].values):\n",
    "#         state_results = selected_col_results.loc[selected_col_results['States Affected'] == statename_to_abbr[state]]\n",
    "#         blankIndex=[''] * len(state_results)\n",
    "#         state_results.index=blankIndex\n",
    "#         return render_template(\"Result.html\",data = state_results)\n",
    "#     #else:\n",
    "#         #return \"State info not found\"\n",
    "#     #print(state_results)\n",
    "#     #final_results\n",
    "    \n",
    "#     #print(X_test.loc[X_test['States Affected'] == statename_to_abbr[state]])\n",
    "    \n",
    "#     #print(request.form['State'])\n",
    "# #   return render_template(\"result.html\",data = state_results)\n",
    "#     #return jsonify({'Results': res})\n",
    "#     #return \"Not found\"\n",
    "\n",
    "\n",
    "# if __name__ == \"__main__\":\n",
    "#     app.run()"
   ]
  },
  {
   "cell_type": "code",
   "execution_count": null,
   "metadata": {},
   "outputs": [],
   "source": []
  },
  {
   "cell_type": "code",
   "execution_count": null,
   "metadata": {},
   "outputs": [],
   "source": []
  },
  {
   "cell_type": "code",
   "execution_count": null,
   "metadata": {},
   "outputs": [],
   "source": []
  }
 ],
 "metadata": {
  "kernelspec": {
   "display_name": "Python 3",
   "language": "python",
   "name": "python3"
  },
  "language_info": {
   "codemirror_mode": {
    "name": "ipython",
    "version": 3
   },
   "file_extension": ".py",
   "mimetype": "text/x-python",
   "name": "python",
   "nbconvert_exporter": "python",
   "pygments_lexer": "ipython3",
   "version": "3.6.4"
  }
 },
 "nbformat": 4,
 "nbformat_minor": 2
}
